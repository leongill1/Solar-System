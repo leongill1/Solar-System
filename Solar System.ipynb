{
 "cells": [
  {
   "cell_type": "code",
   "execution_count": 1,
   "metadata": {},
   "outputs": [],
   "source": [
    "import numpy as np\n",
    "import matplotlib.pyplot as plt"
   ]
  },
  {
   "cell_type": "code",
   "execution_count": 60,
   "metadata": {},
   "outputs": [],
   "source": [
    "#Constant\n",
    "G = 6.67430 * 10**-11\n",
    "\n",
    "#Initial pars: mass = 10^21 kg, radius = km\n",
    "mass_sun = 1989100000.\n",
    "radius_sun = 695700.\n",
    "\n",
    "mass_mercury = 330.11\n",
    "radius_mercury = 57 * 10**6.\n",
    "\n",
    "mass_venus = 4867.5\n",
    "radius_venus = 108 * 10**6.\n",
    "\n",
    "mass_earth = 5972.4\n",
    "radius_earth = 150 * 10**6.\n",
    "\n",
    "mass_mars = 641.71\n",
    "radius_mars = 228 * 10**6.\n",
    "\n",
    "mass_jupiter = 1898187\n",
    "radius_jupiter = 779 * 10**6.\n",
    "\n",
    "mass_saturn = 568317\n",
    "radius_saturn = 1.43 * 10**9.\n",
    "\n",
    "mass_uranus = 86813\n",
    "radius_uranus = 2.88 * 10**9.\n",
    "\n",
    "mass_neptune = 102413\n",
    "radius_neptune = 4.50 * 10**9.\n",
    "\n",
    "mass_pluto = 13.03\n",
    "radius_pluto = 5.91 * 10**9.\n",
    "\n",
    "planet_masses = [\n",
    "    mass_sun,\n",
    "    mass_mercury,\n",
    "    mass_venus,\n",
    "    mass_earth,\n",
    "    mass_mars,\n",
    "    mass_jupiter,\n",
    "    mass_saturn,\n",
    "    mass_uranus,\n",
    "    mass_neptune,\n",
    "    mass_pluto\n",
    "]\n",
    "\n",
    "planet_radii = [\n",
    "    radius_sun,\n",
    "    radius_mercury,\n",
    "    radius_venus,\n",
    "    radius_earth,\n",
    "    radius_mars,\n",
    "    radius_jupiter,\n",
    "    radius_saturn,\n",
    "    radius_uranus,\n",
    "    radius_neptune,\n",
    "    radius_pluto\n",
    "]\n",
    "\n",
    "planet_names = [\n",
    "    \"Sun\",\n",
    "    \"Mercury\",\n",
    "    \"Venus\",\n",
    "    \"Earth\",\n",
    "    \"Mars\",\n",
    "    \"Jupiter\",\n",
    "    \"Saturn\",\n",
    "    \"Uranus\",\n",
    "    \"Neptune\",\n",
    "    \"Pluto\"\n",
    "]"
   ]
  },
  {
   "cell_type": "code",
   "execution_count": 61,
   "metadata": {},
   "outputs": [],
   "source": [
    "class body():\n",
    "    def __init__(self, mass, x_pos, y_pos, name, radius):\n",
    "        self.mass = mass * 10**21\n",
    "        self.x_pos = x_pos * 10**3\n",
    "        self.y_pos = y_pos * 10**3\n",
    "        self.radius = radius\n",
    "        self.x_velocity = np.sqrt(G * mass_sun/radius)# They start as circular\n",
    "        self.y_velocity = 0\n",
    "        self.name = name"
   ]
  },
  {
   "cell_type": "code",
   "execution_count": 62,
   "metadata": {},
   "outputs": [],
   "source": [
    "system_bodies = [body(planet_masses[body_index], planet_radii[body_index], 0, planet_names[body_index], planet_radii[body_index]) for body_index in range(len(planet_masses))]"
   ]
  },
  {
   "cell_type": "code",
   "execution_count": 69,
   "metadata": {},
   "outputs": [],
   "source": [
    "def radii_matrix(system_bodies): # Replace with the (n^2 + n)/2 operations\n",
    "    radii = {}\n",
    "    for body_a in system_bodies:\n",
    "        radii[body_a.name] = {}\n",
    "        for body_b in system_bodies:\n",
    "            distance = np.sqrt((body_a.x_pos - body_b.x_pos)**2 + (body_a.y_pos - body_b.y_pos)**2)\n",
    "            radii[body_a.name][body_b.name] = distance\n",
    "\n",
    "    return radii"
   ]
  },
  {
   "cell_type": "code",
   "execution_count": 35,
   "metadata": {},
   "outputs": [],
   "source": [
    "def evolve_position(body_a, body_b, dt, radii):\n",
    "\n",
    "    F = np.array([0,0])\n",
    "    for secondary in planet_names:\n",
    "        #Force vector is sum of individual forces\n",
    "        F_i = np.sqrt(G * body_a.mass + body_b.mass)/radii[body_b.name][body_a.name]\n",
    "        f_vec = np.array(body_a.x_pos - body_b.x_pos, body_a.y_pos - body_b.y_pos)\n",
    "        f_vec = F_i * f_vec/np.sqrt(f_vec[0]**2 + f_vec[1]**2)\n",
    "        #Force components\n",
    "        F = F + np.array([np.dot(f_vec, np.array([1, 0])),\n",
    "                      np.dot(f_vec, np.array([0, 1]))])\n",
    "    \n",
    "    #Velocity Change\n",
    "    body_a.x_velocity = body_a.x_velocity + F[0] * dt\n",
    "    body_a.y_velocity = body_a.x_velocity + F[1] * dt\n",
    "\n",
    "    body_a.x_pos = body_a.x_pos +  body_a.x_velocity * dt\n",
    "    body_a.x_pos = body_a.y_pos +  body_a.y_velocity * dt\n",
    "    return body_a"
   ]
  },
  {
   "cell_type": "code",
   "execution_count": 83,
   "metadata": {},
   "outputs": [
    {
     "data": {
      "image/png": "[encoded data removed]",
      "text/plain": [
       "<Figure size 640x480 with 1 Axes>"
      ]
     },
     "metadata": {},
     "output_type": "display_data"
    }
   ],
   "source": [
    "fig, ax = plt.subplots()\n",
    "for planet in system_bodies:\n",
    "    ax.add_patch(plt.Circle((planet.x_pos/(radius_pluto*10**3), planet.y_pos/(radius_pluto*10**3)), radius=0.03))\n",
    "plt.xlim([-2,2])\n",
    "plt.ylim([-2,2])\n",
    "fig.savefig('plotcircles.png')"
   ]
  }
 ],
 "metadata": {
  "kernelspec": {
   "display_name": "Python 3",
   "language": "python",
   "name": "python3"
  },
  "language_info": {
   "codemirror_mode": {
    "name": "ipython",
    "version": 3
   },
   "file_extension": ".py",
   "mimetype": "text/x-python",
   "name": "python",
   "nbconvert_exporter": "python",
   "pygments_lexer": "ipython3",
   "version": "3.12.8"
  }
 },
 "nbformat": 4,
 "nbformat_minor": 2
}
