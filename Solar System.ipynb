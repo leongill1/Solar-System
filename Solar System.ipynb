{
 "cells": [
  {
   "cell_type": "code",
   "execution_count": 2,
   "metadata": {},
   "outputs": [],
   "source": [
    "import numpy as np\n",
    "import matplotlib.pyplot as plt"
   ]
  },
  {
   "cell_type": "code",
   "execution_count": 3,
   "metadata": {},
   "outputs": [],
   "source": [
    "#Constant\n",
    "G = 6.67430 * 10**-11\n",
    "\n",
    "#Initial pars: mass = 10^21 kg, radius = km\n",
    "mass_sun = 1.989 * 10**30\n",
    "radius_sun = 0\n",
    "size_sun = 695700 * 10**3\n",
    "\n",
    "mass_mercury = 3.301 * 10 **23\n",
    "radius_mercury = 57 * 10**9.\n",
    "size_mercury = 2439.4 * 10**3\n",
    "\n",
    "mass_venus = 4.867 * 10**24\n",
    "radius_venus = 108 * 10**9.\n",
    "size_venus = 6051.8 * 10**3\n",
    "\n",
    "mass_earth = 5.972 *10**24\n",
    "radius_earth = 150 * 10**9.\n",
    "size_earth = 6371.0 * 10**3\n",
    "\n",
    "mass_mars = 6.417 *10**23\n",
    "radius_mars = 228 * 10**9.\n",
    "size_mars = 3389.5 * 10**3\n",
    "\n",
    "mass_jupiter =  1.898 *10**27\n",
    "radius_jupiter = 779 * 10**9.\n",
    "size_jupiter = 69911 * 10**3\n",
    "\n",
    "mass_saturn = 5.683 * 10**26\n",
    "radius_saturn = 1.43 * 10**12.\n",
    "size_saturn = 58232 * 10**3\n",
    "\n",
    "mass_uranus = 8.681 * 10**25\n",
    "radius_uranus = 2.88 * 10**12.\n",
    "size_uranus = 25362 * 10**3\n",
    "\n",
    "mass_neptune = 1.024 * 10**26\n",
    "radius_neptune = 4.50 * 10**12.\n",
    "size_neptune = 24622 * 10**3\n",
    "\n",
    "mass_pluto = 1.309 *10**22\n",
    "radius_pluto = 5.91 * 10**12.\n",
    "size_pluto = 1188.3 * 10**3\n",
    "\n",
    "planet_properties = {\n",
    "    \"Sun\": {\"mass\": mass_sun, \"orbit\": radius_sun, \"radius\": size_sun},\n",
    "    \"Mercury\": {\"mass\": mass_mercury, \"orbit\": radius_mercury, \"radius\": size_mercury},\n",
    "    \"Venus\": {\"mass\": mass_venus, \"orbit\": radius_venus, \"radius\": size_venus},\n",
    "    \"Earth\": {\"mass\": mass_earth, \"orbit\": radius_earth, \"radius\": size_earth},\n",
    "    \"Mars\": {\"mass\": mass_mars, \"orbit\": radius_mars, \"radius\": size_mars},\n",
    "    \"Jupiter\": {\"mass\": mass_jupiter, \"orbit\": radius_jupiter, \"radius\": size_jupiter},\n",
    "    \"Saturn\": {\"mass\": mass_saturn, \"orbit\": radius_saturn, \"radius\": size_saturn},\n",
    "    \"Uranus\": {\"mass\": mass_uranus, \"orbit\": radius_uranus, \"radius\": size_uranus},\n",
    "    \"Neptune\": {\"mass\": mass_neptune, \"orbit\": radius_neptune, \"radius\": size_neptune},\n",
    "    \"Pluto\": {\"mass\": mass_pluto, \"orbit\": radius_pluto, \"radius\": size_pluto}\n",
    "}"
   ]
  },
  {
   "cell_type": "code",
   "execution_count": 4,
   "metadata": {},
   "outputs": [],
   "source": [
    "class body():\n",
    "    def __init__(self, name):\n",
    "        self.mass = planet_properties[name][\"mass\"]\n",
    "        self.name = name\n",
    "        self.radius = planet_properties[name][\"radius\"]\n",
    "        self.pos = np.array([planet_properties[name][\"orbit\"], 0])\n",
    "\n",
    "        if name == \"Sun\":\n",
    "            self.vel = np.array([0, 0])\n",
    "        else:\n",
    "            self.vel = np.array([0, \n",
    "                             np.sqrt(G * (planet_properties[\"Sun\"][\"mass\"] + planet_properties[name][\"mass\"])/np.linalg.norm(self.pos))])"
   ]
  },
  {
   "cell_type": "code",
   "execution_count": 5,
   "metadata": {},
   "outputs": [],
   "source": [
    "def radii_matrix(system_bodies): # Replace with the (n^2 + n)/2 operations\n",
    "    radii = {}\n",
    "    for body_a in system_bodies:\n",
    "        radii[body_a.name] = {}\n",
    "        for body_b in system_bodies:\n",
    "            radii[body_a.name][body_b.name] = np.linalg.norm(body_a.pos  - body_b.pos)\n",
    "    return radii"
   ]
  },
  {
   "cell_type": "code",
   "execution_count": 6,
   "metadata": {},
   "outputs": [],
   "source": [
    "class temp():\n",
    "    def __init__(self, name, pos):\n",
    "        self.name = name\n",
    "        self.pos = pos\n"
   ]
  },
  {
   "cell_type": "code",
   "execution_count": 7,
   "metadata": {},
   "outputs": [],
   "source": [
    "def evolve_system(system_bodies, dt):\n",
    "    radii = radii_matrix(system_bodies)\n",
    "    for body_a in system_bodies[1:]:\n",
    "        acc = np.array([0,0])\n",
    "        for body_b in [system_bodies[0]]:#for body_b in [i for i in system_bodies if i != body_a]:\n",
    "            a_i = G * body_b.mass/radii[body_a.name][body_b.name]**2\n",
    "            a_vec = body_b.pos - body_a.pos\n",
    "            a_vec = a_i * a_vec/np.linalg.norm(a_vec)\n",
    "        #Force components\n",
    "        acc = acc + a_vec\n",
    "        #Velocity change\n",
    "        body_a.vel = body_a.vel + acc * dt\n",
    "\n",
    "    for body_a in system_bodies:\n",
    "        body_a.pos = body_a.pos +  body_a.vel * dt\n",
    "    return system_bodies"
   ]
  },
  {
   "cell_type": "code",
   "execution_count": 11,
   "metadata": {},
   "outputs": [],
   "source": [
    "system_bodies = [body(body_name) for body_name in list(planet_properties.keys())]"
   ]
  },
  {
   "cell_type": "code",
   "execution_count": 51,
   "metadata": {},
   "outputs": [
    {
     "data": {
      "text/plain": [
       "(-0.1, 0.1)"
      ]
     },
     "execution_count": 51,
     "metadata": {},
     "output_type": "execute_result"
    },
    {
     "data": {
      "image/png": "[encoded data removed]",
      "text/plain": [
       "<Figure size 640x480 with 1 Axes>"
      ]
     },
     "metadata": {},
     "output_type": "display_data"
    }
   ],
   "source": [
    "map_size = 0.1\n",
    "sun_size = 0.003\n",
    "fig, ax = plt.subplots()\n",
    "sa = [\"orange\", \"red\", \"black\", \"blue\", \"yellow\", \"tomato\", \"salmon\", \"purple\", \"pink\", \"lime\"]\n",
    "a = 0\n",
    "for planet in evolve_system(system_bodies, 60*60*24*.1):\n",
    "    ax.add_patch(plt.Circle(planet.pos/radius_pluto, radius=sun_size, color = sa[a]))\n",
    "    sun_size = 0.0015\n",
    "    a += 1\n",
    "plt.xlim([-map_size,map_size])\n",
    "plt.ylim([-map_size,map_size])"
   ]
  }
 ],
 "metadata": {
  "kernelspec": {
   "display_name": "Python 3",
   "language": "python",
   "name": "python3"
  },
  "language_info": {
   "codemirror_mode": {
    "name": "ipython",
    "version": 3
   },
   "file_extension": ".py",
   "mimetype": "text/x-python",
   "name": "python",
   "nbconvert_exporter": "python",
   "pygments_lexer": "ipython3",
   "version": "3.12.8"
  }
 },
 "nbformat": 4,
 "nbformat_minor": 2
}
